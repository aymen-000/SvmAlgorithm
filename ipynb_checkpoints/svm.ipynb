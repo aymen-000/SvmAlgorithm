{
 "cells": [
  {
   "cell_type": "code",
   "execution_count": 6,
   "id": "06673ecb",
   "metadata": {},
   "outputs": [],
   "source": [
    "import numpy\n",
    "class svm_classifier :\n",
    "    def __init__(self , learning_rate , num_itter , lambda_parms):\n",
    "        self.learning_rate = learning_rate \n",
    "        self.num_itter = num_itter \n",
    "        self.lambda_parms = lambda_parms\n",
    "    def fit(self, x , y ) : \n",
    "        self.m , self.n = x.shape \n",
    "        #init weights and bias \n",
    "        self.w = np.zeros(self.n)\n",
    "        self.b = 0 \n",
    "        self.x = x \n",
    "        self.y = y\n",
    "        #implementing GDS for optimization \n",
    "        for i in range(self.num_itter) : \n",
    "            self.update_weights()\n",
    "    def update_weights(self) : \n",
    "        #label encoding\n",
    "        y_label = np.where(self.y <=  0  , -1,1)\n",
    "        for index , x_i in enumerate(self.x):\n",
    "            consition = y[index] * (np.dot(x_i , self.w)-self.b) >=1\n",
    "            if (condition == True ) : \n",
    "                dw = 2 * self.lambda_parms * self.w\n",
    "                db = 0 \n",
    "            else : \n",
    "                dw = 2 * self.lambda_parms * self.w -np.dot(x_i , y_label[i])\n",
    "                db = y_label[index]\n",
    "            self.w = self.w - self.learning_rate*dw\n",
    "            self.b = self.b - self.learning_rate*db        \n",
    "    def predict(self , x ) : \n",
    "        output = np.dot(x ,self.w) - self.b \n",
    "        predicted_label = np.sign(output)\n",
    "        y_hat = np.where(predicted_label <= -1 , 0 , 1) \n",
    "        return y_hat()\n",
    "        "
   ]
  },
  {
   "cell_type": "code",
   "execution_count": null,
   "id": "b3ab5c73",
   "metadata": {},
   "outputs": [],
   "source": []
  },
  {
   "cell_type": "code",
   "execution_count": null,
   "id": "f5d22907",
   "metadata": {},
   "outputs": [],
   "source": []
  },
  {
   "cell_type": "code",
   "execution_count": null,
   "id": "c971d7fb",
   "metadata": {},
   "outputs": [],
   "source": []
  },
  {
   "cell_type": "code",
   "execution_count": null,
   "id": "76c7b496",
   "metadata": {},
   "outputs": [],
   "source": []
  },
  {
   "cell_type": "code",
   "execution_count": null,
   "id": "fe51e706",
   "metadata": {},
   "outputs": [],
   "source": []
  },
  {
   "cell_type": "code",
   "execution_count": null,
   "id": "917035be",
   "metadata": {},
   "outputs": [],
   "source": []
  },
  {
   "cell_type": "code",
   "execution_count": null,
   "id": "d4f42efe",
   "metadata": {},
   "outputs": [],
   "source": []
  }
 ],
 "metadata": {
  "kernelspec": {
   "display_name": "Python 3 (ipykernel)",
   "language": "python",
   "name": "python3"
  },
  "language_info": {
   "codemirror_mode": {
    "name": "ipython",
    "version": 3
   },
   "file_extension": ".py",
   "mimetype": "text/x-python",
   "name": "python",
   "nbconvert_exporter": "python",
   "pygments_lexer": "ipython3",
   "version": "3.11.5"
  }
 },
 "nbformat": 4,
 "nbformat_minor": 5
}
